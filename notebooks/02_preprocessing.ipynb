{
 "cells": [
  {
   "cell_type": "code",
   "execution_count": 1,
   "id": "a527c7a5",
   "metadata": {},
   "outputs": [
    {
     "name": "stdout",
     "output_type": "stream",
     "text": [
      "(20000, 128, 128) (20000,)\n",
      "Normalized shape: (20000, 128, 128, 1)\n"
     ]
    }
   ],
   "source": [
    "# Normalize data and reshape images for a neural network\n",
    "import sys\n",
    "sys.path.append(\"..\")  # Add project root to sys.path\n",
    "\n",
    "from src.preprocessing import load_images\n",
    "\n",
    "\n",
    "X, y = load_images(\"../data/leapGestRecog\")\n",
    "\n",
    "print(X.shape, y.shape)\n",
    "\n",
    "# Normalize\n",
    "X = X / 255.0\n",
    "\n",
    "# Add channel dimension if needed (grayscale)\n",
    "X = X.reshape(-1, 128, 128, 1)\n",
    "\n",
    "print(f\"Normalized shape: {X.shape}\")\n"
   ]
  },
  {
   "cell_type": "code",
   "execution_count": 2,
   "id": "7735bff3",
   "metadata": {},
   "outputs": [
    {
     "name": "stdout",
     "output_type": "stream",
     "text": [
      "Classes: ['01_palm' '02_l' '03_fist' '04_fist_moved' '05_thumb' '06_index' '07_ok'\n",
      " '08_palm_moved' '09_c' '10_down']\n"
     ]
    }
   ],
   "source": [
    "# Encode labels to integers and then to one-hot vectors\n",
    "# This is useful for classification tasks in neural networks\n",
    "from sklearn.preprocessing import LabelEncoder\n",
    "from tensorflow.keras.utils import to_categorical\n",
    "\n",
    "le = LabelEncoder()\n",
    "y_encoded = le.fit_transform(y)\n",
    "y_onehot = to_categorical(y_encoded)\n",
    "\n",
    "print(\"Classes:\", le.classes_)\n"
   ]
  },
  {
   "cell_type": "code",
   "execution_count": null,
   "id": "6031da4e",
   "metadata": {},
   "outputs": [
    {
     "name": "stdout",
     "output_type": "stream",
     "text": [
      "Train: (14000, 128, 128, 1), Val: (3000, 128, 128, 1), Test: (3000, 128, 128, 1)\n"
     ]
    }
   ],
   "source": [
    "# Split data into training and validation sets , test set\n",
    "# Using stratified split to maintain class distribution \n",
    "from sklearn.model_selection import train_test_split\n",
    "\n",
    "X_train, X_temp, y_train, y_temp = train_test_split(\n",
    "    X, y_onehot, test_size=0.3, stratify=y_onehot, random_state=42)\n",
    "\n",
    "X_val, X_test, y_val, y_test = train_test_split(\n",
    "    X_temp, y_temp, test_size=0.5, stratify=y_temp, random_state=42)\n",
    "\n",
    "print(f\"Train: {X_train.shape}, Val: {X_val.shape}, Test: {X_test.shape}\")\n"
   ]
  },
  {
   "cell_type": "code",
   "execution_count": 4,
   "id": "8cc60c26",
   "metadata": {},
   "outputs": [],
   "source": [
    "# Data Augmentation\n",
    "from tensorflow.keras.preprocessing.image import ImageDataGenerator\n",
    "\n",
    "datagen = ImageDataGenerator(\n",
    "    rotation_range=15,\n",
    "    width_shift_range=0.1,\n",
    "    height_shift_range=0.1,\n",
    "    zoom_range=0.2,\n",
    "    horizontal_flip=True\n",
    ")\n",
    "\n",
    "datagen.fit(X_train)\n"
   ]
  },
  {
   "cell_type": "code",
   "execution_count": null,
   "id": "d1f9e882",
   "metadata": {},
   "outputs": [],
   "source": []
  }
 ],
 "metadata": {
  "kernelspec": {
   "display_name": "myenv",
   "language": "python",
   "name": "python3"
  },
  "language_info": {
   "codemirror_mode": {
    "name": "ipython",
    "version": 3
   },
   "file_extension": ".py",
   "mimetype": "text/x-python",
   "name": "python",
   "nbconvert_exporter": "python",
   "pygments_lexer": "ipython3",
   "version": "3.10.18"
  }
 },
 "nbformat": 4,
 "nbformat_minor": 5
}
